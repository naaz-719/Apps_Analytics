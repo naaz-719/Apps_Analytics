{
 "cells": [
  {
   "cell_type": "code",
   "execution_count": 74,
   "id": "74d6ffbf-1f79-4678-8b5e-628100a64158",
   "metadata": {},
   "outputs": [
    {
     "name": "stderr",
     "output_type": "stream",
     "text": [
      "[nltk_data] Downloading package vader_lexicon to\n",
      "[nltk_data]     C:\\Users\\hprus\\AppData\\Roaming\\nltk_data...\n",
      "[nltk_data]   Package vader_lexicon is already up-to-date!\n"
     ]
    },
    {
     "data": {
      "text/plain": [
       "True"
      ]
     },
     "execution_count": 74,
     "metadata": {},
     "output_type": "execute_result"
    }
   ],
   "source": [
    "import pandas as pd\n",
    "import numpy as np\n",
    "import plotly.express as px\n",
    "import plotly.graph_objects as go\n",
    "from nltk.sentiment.vader import SentimentIntensityAnalyzer\n",
    "import nltk\n",
    "import pytz\n",
    "import datetime\n",
    "\n",
    "nltk.download(\"vader_lexicon\")"
   ]
  },
  {
   "cell_type": "code",
   "execution_count": 75,
   "id": "0ad9fb8e-366b-4add-aac4-2fe9ca0fb565",
   "metadata": {},
   "outputs": [],
   "source": [
    "#Laod the datasets\n",
    "apps_df = pd.read_csv(\"C:\\\\Users\\\\hprus\\\\Downloads\\\\Play Store Data.csv\")\n",
    "reviews_df = pd.read_csv(\"C:\\\\Users\\\\hprus\\\\Downloads\\\\User Reviews.csv\")\n"
   ]
  },
  {
   "cell_type": "code",
   "execution_count": 76,
   "id": "c8d8b1ae-25b4-4644-b655-7566af861ca2",
   "metadata": {},
   "outputs": [
    {
     "data": {
      "text/html": [
       "<div>\n",
       "<style scoped>\n",
       "    .dataframe tbody tr th:only-of-type {\n",
       "        vertical-align: middle;\n",
       "    }\n",
       "\n",
       "    .dataframe tbody tr th {\n",
       "        vertical-align: top;\n",
       "    }\n",
       "\n",
       "    .dataframe thead th {\n",
       "        text-align: right;\n",
       "    }\n",
       "</style>\n",
       "<table border=\"1\" class=\"dataframe\">\n",
       "  <thead>\n",
       "    <tr style=\"text-align: right;\">\n",
       "      <th></th>\n",
       "      <th>App</th>\n",
       "      <th>Category</th>\n",
       "      <th>Rating</th>\n",
       "      <th>Reviews</th>\n",
       "      <th>Size</th>\n",
       "      <th>Installs</th>\n",
       "      <th>Type</th>\n",
       "      <th>Price</th>\n",
       "      <th>Content Rating</th>\n",
       "      <th>Genres</th>\n",
       "      <th>Last Updated</th>\n",
       "      <th>Current Ver</th>\n",
       "      <th>Android Ver</th>\n",
       "    </tr>\n",
       "  </thead>\n",
       "  <tbody>\n",
       "    <tr>\n",
       "      <th>0</th>\n",
       "      <td>Photo Editor &amp; Candy Camera &amp; Grid &amp; ScrapBook</td>\n",
       "      <td>ART_AND_DESIGN</td>\n",
       "      <td>4.1</td>\n",
       "      <td>159</td>\n",
       "      <td>19M</td>\n",
       "      <td>10,000+</td>\n",
       "      <td>Free</td>\n",
       "      <td>0</td>\n",
       "      <td>Everyone</td>\n",
       "      <td>Art &amp; Design</td>\n",
       "      <td>January 7, 2018</td>\n",
       "      <td>1.0.0</td>\n",
       "      <td>4.0.3 and up</td>\n",
       "    </tr>\n",
       "    <tr>\n",
       "      <th>1</th>\n",
       "      <td>Coloring book moana</td>\n",
       "      <td>ART_AND_DESIGN</td>\n",
       "      <td>3.9</td>\n",
       "      <td>967</td>\n",
       "      <td>14M</td>\n",
       "      <td>500,000+</td>\n",
       "      <td>Free</td>\n",
       "      <td>0</td>\n",
       "      <td>Everyone</td>\n",
       "      <td>Art &amp; Design;Pretend Play</td>\n",
       "      <td>January 15, 2018</td>\n",
       "      <td>2.0.0</td>\n",
       "      <td>4.0.3 and up</td>\n",
       "    </tr>\n",
       "    <tr>\n",
       "      <th>2</th>\n",
       "      <td>U Launcher Lite – FREE Live Cool Themes, Hide ...</td>\n",
       "      <td>ART_AND_DESIGN</td>\n",
       "      <td>4.7</td>\n",
       "      <td>87510</td>\n",
       "      <td>8.7M</td>\n",
       "      <td>5,000,000+</td>\n",
       "      <td>Free</td>\n",
       "      <td>0</td>\n",
       "      <td>Everyone</td>\n",
       "      <td>Art &amp; Design</td>\n",
       "      <td>August 1, 2018</td>\n",
       "      <td>1.2.4</td>\n",
       "      <td>4.0.3 and up</td>\n",
       "    </tr>\n",
       "    <tr>\n",
       "      <th>3</th>\n",
       "      <td>Sketch - Draw &amp; Paint</td>\n",
       "      <td>ART_AND_DESIGN</td>\n",
       "      <td>4.5</td>\n",
       "      <td>215644</td>\n",
       "      <td>25M</td>\n",
       "      <td>50,000,000+</td>\n",
       "      <td>Free</td>\n",
       "      <td>0</td>\n",
       "      <td>Teen</td>\n",
       "      <td>Art &amp; Design</td>\n",
       "      <td>June 8, 2018</td>\n",
       "      <td>Varies with device</td>\n",
       "      <td>4.2 and up</td>\n",
       "    </tr>\n",
       "    <tr>\n",
       "      <th>4</th>\n",
       "      <td>Pixel Draw - Number Art Coloring Book</td>\n",
       "      <td>ART_AND_DESIGN</td>\n",
       "      <td>4.3</td>\n",
       "      <td>967</td>\n",
       "      <td>2.8M</td>\n",
       "      <td>100,000+</td>\n",
       "      <td>Free</td>\n",
       "      <td>0</td>\n",
       "      <td>Everyone</td>\n",
       "      <td>Art &amp; Design;Creativity</td>\n",
       "      <td>June 20, 2018</td>\n",
       "      <td>1.1</td>\n",
       "      <td>4.4 and up</td>\n",
       "    </tr>\n",
       "  </tbody>\n",
       "</table>\n",
       "</div>"
      ],
      "text/plain": [
       "                                                 App        Category  Rating  \\\n",
       "0     Photo Editor & Candy Camera & Grid & ScrapBook  ART_AND_DESIGN     4.1   \n",
       "1                                Coloring book moana  ART_AND_DESIGN     3.9   \n",
       "2  U Launcher Lite – FREE Live Cool Themes, Hide ...  ART_AND_DESIGN     4.7   \n",
       "3                              Sketch - Draw & Paint  ART_AND_DESIGN     4.5   \n",
       "4              Pixel Draw - Number Art Coloring Book  ART_AND_DESIGN     4.3   \n",
       "\n",
       "  Reviews  Size     Installs  Type Price Content Rating  \\\n",
       "0     159   19M      10,000+  Free     0       Everyone   \n",
       "1     967   14M     500,000+  Free     0       Everyone   \n",
       "2   87510  8.7M   5,000,000+  Free     0       Everyone   \n",
       "3  215644   25M  50,000,000+  Free     0           Teen   \n",
       "4     967  2.8M     100,000+  Free     0       Everyone   \n",
       "\n",
       "                      Genres      Last Updated         Current Ver  \\\n",
       "0               Art & Design   January 7, 2018               1.0.0   \n",
       "1  Art & Design;Pretend Play  January 15, 2018               2.0.0   \n",
       "2               Art & Design    August 1, 2018               1.2.4   \n",
       "3               Art & Design      June 8, 2018  Varies with device   \n",
       "4    Art & Design;Creativity     June 20, 2018                 1.1   \n",
       "\n",
       "    Android Ver  \n",
       "0  4.0.3 and up  \n",
       "1  4.0.3 and up  \n",
       "2  4.0.3 and up  \n",
       "3    4.2 and up  \n",
       "4    4.4 and up  "
      ]
     },
     "execution_count": 76,
     "metadata": {},
     "output_type": "execute_result"
    }
   ],
   "source": [
    "\n",
    "apps_df.head()\n",
    "\n"
   ]
  },
  {
   "cell_type": "code",
   "execution_count": 77,
   "id": "d2fc8c82-85c6-4392-ba31-2edb3bb1aca3",
   "metadata": {},
   "outputs": [
    {
     "data": {
      "text/html": [
       "<div>\n",
       "<style scoped>\n",
       "    .dataframe tbody tr th:only-of-type {\n",
       "        vertical-align: middle;\n",
       "    }\n",
       "\n",
       "    .dataframe tbody tr th {\n",
       "        vertical-align: top;\n",
       "    }\n",
       "\n",
       "    .dataframe thead th {\n",
       "        text-align: right;\n",
       "    }\n",
       "</style>\n",
       "<table border=\"1\" class=\"dataframe\">\n",
       "  <thead>\n",
       "    <tr style=\"text-align: right;\">\n",
       "      <th></th>\n",
       "      <th>App</th>\n",
       "      <th>Translated_Review</th>\n",
       "      <th>Sentiment</th>\n",
       "      <th>Sentiment_Polarity</th>\n",
       "      <th>Sentiment_Subjectivity</th>\n",
       "    </tr>\n",
       "  </thead>\n",
       "  <tbody>\n",
       "    <tr>\n",
       "      <th>0</th>\n",
       "      <td>10 Best Foods for You</td>\n",
       "      <td>I like eat delicious food. That's I'm cooking ...</td>\n",
       "      <td>Positive</td>\n",
       "      <td>1.00</td>\n",
       "      <td>0.533333</td>\n",
       "    </tr>\n",
       "    <tr>\n",
       "      <th>1</th>\n",
       "      <td>10 Best Foods for You</td>\n",
       "      <td>This help eating healthy exercise regular basis</td>\n",
       "      <td>Positive</td>\n",
       "      <td>0.25</td>\n",
       "      <td>0.288462</td>\n",
       "    </tr>\n",
       "    <tr>\n",
       "      <th>2</th>\n",
       "      <td>10 Best Foods for You</td>\n",
       "      <td>NaN</td>\n",
       "      <td>NaN</td>\n",
       "      <td>NaN</td>\n",
       "      <td>NaN</td>\n",
       "    </tr>\n",
       "    <tr>\n",
       "      <th>3</th>\n",
       "      <td>10 Best Foods for You</td>\n",
       "      <td>Works great especially going grocery store</td>\n",
       "      <td>Positive</td>\n",
       "      <td>0.40</td>\n",
       "      <td>0.875000</td>\n",
       "    </tr>\n",
       "    <tr>\n",
       "      <th>4</th>\n",
       "      <td>10 Best Foods for You</td>\n",
       "      <td>Best idea us</td>\n",
       "      <td>Positive</td>\n",
       "      <td>1.00</td>\n",
       "      <td>0.300000</td>\n",
       "    </tr>\n",
       "  </tbody>\n",
       "</table>\n",
       "</div>"
      ],
      "text/plain": [
       "                     App                                  Translated_Review  \\\n",
       "0  10 Best Foods for You  I like eat delicious food. That's I'm cooking ...   \n",
       "1  10 Best Foods for You    This help eating healthy exercise regular basis   \n",
       "2  10 Best Foods for You                                                NaN   \n",
       "3  10 Best Foods for You         Works great especially going grocery store   \n",
       "4  10 Best Foods for You                                       Best idea us   \n",
       "\n",
       "  Sentiment  Sentiment_Polarity  Sentiment_Subjectivity  \n",
       "0  Positive                1.00                0.533333  \n",
       "1  Positive                0.25                0.288462  \n",
       "2       NaN                 NaN                     NaN  \n",
       "3  Positive                0.40                0.875000  \n",
       "4  Positive                1.00                0.300000  "
      ]
     },
     "execution_count": 77,
     "metadata": {},
     "output_type": "execute_result"
    }
   ],
   "source": [
    "reviews_df.head()"
   ]
  },
  {
   "cell_type": "code",
   "execution_count": 78,
   "id": "5bdc3d5d-71fd-453f-8fd7-f86912a39835",
   "metadata": {},
   "outputs": [
    {
     "name": "stdout",
     "output_type": "stream",
     "text": [
      "\n",
      " Apps\n",
      "App                  0\n",
      "Category             0\n",
      "Rating            1474\n",
      "Reviews              0\n",
      "Size                 0\n",
      "Installs             0\n",
      "Type                 1\n",
      "Price                0\n",
      "Content Rating       1\n",
      "Genres               0\n",
      "Last Updated         0\n",
      "Current Ver          8\n",
      "Android Ver          3\n",
      "dtype: int64\n",
      "\n",
      " Reviews\n",
      "App                           0\n",
      "Translated_Review         26868\n",
      "Sentiment                 26863\n",
      "Sentiment_Polarity        26863\n",
      "Sentiment_Subjectivity    26863\n",
      "dtype: int64\n"
     ]
    }
   ],
   "source": [
    "print(\"\\n Apps\")\n",
    "print(apps_df.isnull().sum())\n",
    "\n",
    "print(\"\\n Reviews\")\n",
    "print(reviews_df.isnull().sum())"
   ]
  },
  {
   "cell_type": "code",
   "execution_count": 79,
   "id": "5e03adf4-8bb2-4d3d-bb88-0f08333cf3a5",
   "metadata": {},
   "outputs": [
    {
     "name": "stdout",
     "output_type": "stream",
     "text": [
      "\n",
      " Apps\n",
      "App                object\n",
      "Category           object\n",
      "Rating            float64\n",
      "Reviews            object\n",
      "Size               object\n",
      "Installs           object\n",
      "Type               object\n",
      "Price              object\n",
      "Content Rating     object\n",
      "Genres             object\n",
      "Last Updated       object\n",
      "Current Ver        object\n",
      "Android Ver        object\n",
      "dtype: object\n",
      "\n",
      " Reviews\n",
      "App                        object\n",
      "Translated_Review          object\n",
      "Sentiment                  object\n",
      "Sentiment_Polarity        float64\n",
      "Sentiment_Subjectivity    float64\n",
      "dtype: object\n"
     ]
    }
   ],
   "source": [
    "print(\"\\n Apps\")\n",
    "print(apps_df.dtypes)\n",
    "\n",
    "print(\"\\n Reviews\")\n",
    "print(reviews_df.dtypes)"
   ]
  },
  {
   "cell_type": "code",
   "execution_count": 80,
   "id": "348cbb15-7964-454d-b8cd-635cce17ed63",
   "metadata": {},
   "outputs": [
    {
     "name": "stdout",
     "output_type": "stream",
     "text": [
      "\n",
      " Apps\n",
      "<class 'pandas.core.frame.DataFrame'>\n",
      "RangeIndex: 10841 entries, 0 to 10840\n",
      "Data columns (total 13 columns):\n",
      " #   Column          Non-Null Count  Dtype  \n",
      "---  ------          --------------  -----  \n",
      " 0   App             10841 non-null  object \n",
      " 1   Category        10841 non-null  object \n",
      " 2   Rating          9367 non-null   float64\n",
      " 3   Reviews         10841 non-null  object \n",
      " 4   Size            10841 non-null  object \n",
      " 5   Installs        10841 non-null  object \n",
      " 6   Type            10840 non-null  object \n",
      " 7   Price           10841 non-null  object \n",
      " 8   Content Rating  10840 non-null  object \n",
      " 9   Genres          10841 non-null  object \n",
      " 10  Last Updated    10841 non-null  object \n",
      " 11  Current Ver     10833 non-null  object \n",
      " 12  Android Ver     10838 non-null  object \n",
      "dtypes: float64(1), object(12)\n",
      "memory usage: 1.1+ MB\n",
      "None\n",
      "\n",
      " Reviews\n",
      "<class 'pandas.core.frame.DataFrame'>\n",
      "RangeIndex: 64295 entries, 0 to 64294\n",
      "Data columns (total 5 columns):\n",
      " #   Column                  Non-Null Count  Dtype  \n",
      "---  ------                  --------------  -----  \n",
      " 0   App                     64295 non-null  object \n",
      " 1   Translated_Review       37427 non-null  object \n",
      " 2   Sentiment               37432 non-null  object \n",
      " 3   Sentiment_Polarity      37432 non-null  float64\n",
      " 4   Sentiment_Subjectivity  37432 non-null  float64\n",
      "dtypes: float64(2), object(3)\n",
      "memory usage: 2.5+ MB\n",
      "None\n"
     ]
    }
   ],
   "source": [
    "print(\"\\n Apps\")\n",
    "print(apps_df.info())\n",
    "\n",
    "print(\"\\n Reviews\")\n",
    "print(reviews_df.info())"
   ]
  },
  {
   "cell_type": "code",
   "execution_count": 81,
   "id": "78c00de5-433a-4e68-a9a8-a37d110d9cb9",
   "metadata": {},
   "outputs": [
    {
     "name": "stdout",
     "output_type": "stream",
     "text": [
      "\n",
      " Apps\n",
      "            Rating\n",
      "count  9367.000000\n",
      "mean      4.193338\n",
      "std       0.537431\n",
      "min       1.000000\n",
      "25%       4.000000\n",
      "50%       4.300000\n",
      "75%       4.500000\n",
      "max      19.000000\n",
      "\n",
      " Reviews\n",
      "       Sentiment_Polarity  Sentiment_Subjectivity\n",
      "count        37432.000000            37432.000000\n",
      "mean             0.182146                0.492704\n",
      "std              0.351301                0.259949\n",
      "min             -1.000000                0.000000\n",
      "25%              0.000000                0.357143\n",
      "50%              0.150000                0.514286\n",
      "75%              0.400000                0.650000\n",
      "max              1.000000                1.000000\n"
     ]
    }
   ],
   "source": [
    "print(\"\\n Apps\")\n",
    "print(apps_df.describe())\n",
    "\n",
    "print(\"\\n Reviews\")\n",
    "print(reviews_df.describe())"
   ]
  },
  {
   "cell_type": "code",
   "execution_count": 82,
   "id": "8951631e-b982-4be7-a191-387a1975a46b",
   "metadata": {},
   "outputs": [],
   "source": [
    "# Convert Installs\n",
    "# Clean Installs column safely\n",
    "apps_df[\"Installs\"] = (\n",
    "    apps_df[\"Installs\"]\n",
    "    .astype(str)                               # force to string\n",
    "    .str.replace(r\"[+,]\", \"\", regex=True)      # remove '+' and ','\n",
    "    .replace({\"<NA>\": None, \"nan\": None, \"NaN\": None, \"\": None})  # handle weird NA strings\n",
    ")\n",
    "\n",
    "\n",
    "# Convert Reviews\n",
    "apps_df[\"Reviews\"] = pd.to_numeric(apps_df[\"Reviews\"], errors=\"coerce\")\n",
    "\n",
    "# Convert Last Updated\n",
    "apps_df[\"Last Updated\"] = pd.to_datetime(apps_df[\"Last Updated\"], errors=\"coerce\")"
   ]
  },
  {
   "cell_type": "code",
   "execution_count": 83,
   "id": "79fd7c70-9ef0-4d34-858a-c94f741c7fd7",
   "metadata": {},
   "outputs": [],
   "source": [
    "apps_df.drop_duplicates(inplace=True)\n",
    "apps_df = apps_df.dropna(subset=[\"App\", \"Category\", \"Rating\", \"Size\", \"Reviews\", \"Installs\", \"Last Updated\"])\n"
   ]
  },
  {
   "cell_type": "code",
   "execution_count": 84,
   "id": "b2c3b8e8-8ef4-433e-8157-5601fba48de2",
   "metadata": {},
   "outputs": [],
   "source": [
    "# Convert Size → MB\n",
    "def size_to_mb(size):\n",
    "    size = str(size).strip()\n",
    "    if size.endswith(\"M\"):\n",
    "        return float(size.replace(\"M\", \"\"))\n",
    "    elif size.endswith(\"k\"):\n",
    "        return float(size.replace(\"k\", \"\")) / 1024\n",
    "    else:\n",
    "        try:\n",
    "            return float(size)\n",
    "        except:\n",
    "            return None\n",
    "\n",
    "apps_df[\"Size_MB\"] = apps_df[\"Size\"].apply(size_to_mb)\n"
   ]
  },
  {
   "cell_type": "code",
   "execution_count": 85,
   "id": "c1af6ffc-9d18-4404-b96e-9fda0b87cbe0",
   "metadata": {},
   "outputs": [
    {
     "data": {
      "text/html": [
       "<div>\n",
       "<style scoped>\n",
       "    .dataframe tbody tr th:only-of-type {\n",
       "        vertical-align: middle;\n",
       "    }\n",
       "\n",
       "    .dataframe tbody tr th {\n",
       "        vertical-align: top;\n",
       "    }\n",
       "\n",
       "    .dataframe thead th {\n",
       "        text-align: right;\n",
       "    }\n",
       "</style>\n",
       "<table border=\"1\" class=\"dataframe\">\n",
       "  <thead>\n",
       "    <tr style=\"text-align: right;\">\n",
       "      <th></th>\n",
       "      <th>App</th>\n",
       "      <th>Category</th>\n",
       "      <th>Rating</th>\n",
       "      <th>Reviews</th>\n",
       "      <th>Size</th>\n",
       "      <th>Installs</th>\n",
       "      <th>Type</th>\n",
       "      <th>Price</th>\n",
       "      <th>Content Rating</th>\n",
       "      <th>Genres</th>\n",
       "      <th>Last Updated</th>\n",
       "      <th>Current Ver</th>\n",
       "      <th>Android Ver</th>\n",
       "      <th>Size_MB</th>\n",
       "    </tr>\n",
       "  </thead>\n",
       "  <tbody>\n",
       "    <tr>\n",
       "      <th>0</th>\n",
       "      <td>Photo Editor &amp; Candy Camera &amp; Grid &amp; ScrapBook</td>\n",
       "      <td>ART_AND_DESIGN</td>\n",
       "      <td>4.1</td>\n",
       "      <td>159.0</td>\n",
       "      <td>19M</td>\n",
       "      <td>10000</td>\n",
       "      <td>Free</td>\n",
       "      <td>0</td>\n",
       "      <td>Everyone</td>\n",
       "      <td>Art &amp; Design</td>\n",
       "      <td>2018-01-07</td>\n",
       "      <td>1.0.0</td>\n",
       "      <td>4.0.3 and up</td>\n",
       "      <td>19.0</td>\n",
       "    </tr>\n",
       "    <tr>\n",
       "      <th>1</th>\n",
       "      <td>Coloring book moana</td>\n",
       "      <td>ART_AND_DESIGN</td>\n",
       "      <td>3.9</td>\n",
       "      <td>967.0</td>\n",
       "      <td>14M</td>\n",
       "      <td>500000</td>\n",
       "      <td>Free</td>\n",
       "      <td>0</td>\n",
       "      <td>Everyone</td>\n",
       "      <td>Art &amp; Design;Pretend Play</td>\n",
       "      <td>2018-01-15</td>\n",
       "      <td>2.0.0</td>\n",
       "      <td>4.0.3 and up</td>\n",
       "      <td>14.0</td>\n",
       "    </tr>\n",
       "    <tr>\n",
       "      <th>2</th>\n",
       "      <td>U Launcher Lite – FREE Live Cool Themes, Hide ...</td>\n",
       "      <td>ART_AND_DESIGN</td>\n",
       "      <td>4.7</td>\n",
       "      <td>87510.0</td>\n",
       "      <td>8.7M</td>\n",
       "      <td>5000000</td>\n",
       "      <td>Free</td>\n",
       "      <td>0</td>\n",
       "      <td>Everyone</td>\n",
       "      <td>Art &amp; Design</td>\n",
       "      <td>2018-08-01</td>\n",
       "      <td>1.2.4</td>\n",
       "      <td>4.0.3 and up</td>\n",
       "      <td>8.7</td>\n",
       "    </tr>\n",
       "    <tr>\n",
       "      <th>3</th>\n",
       "      <td>Sketch - Draw &amp; Paint</td>\n",
       "      <td>ART_AND_DESIGN</td>\n",
       "      <td>4.5</td>\n",
       "      <td>215644.0</td>\n",
       "      <td>25M</td>\n",
       "      <td>50000000</td>\n",
       "      <td>Free</td>\n",
       "      <td>0</td>\n",
       "      <td>Teen</td>\n",
       "      <td>Art &amp; Design</td>\n",
       "      <td>2018-06-08</td>\n",
       "      <td>Varies with device</td>\n",
       "      <td>4.2 and up</td>\n",
       "      <td>25.0</td>\n",
       "    </tr>\n",
       "    <tr>\n",
       "      <th>4</th>\n",
       "      <td>Pixel Draw - Number Art Coloring Book</td>\n",
       "      <td>ART_AND_DESIGN</td>\n",
       "      <td>4.3</td>\n",
       "      <td>967.0</td>\n",
       "      <td>2.8M</td>\n",
       "      <td>100000</td>\n",
       "      <td>Free</td>\n",
       "      <td>0</td>\n",
       "      <td>Everyone</td>\n",
       "      <td>Art &amp; Design;Creativity</td>\n",
       "      <td>2018-06-20</td>\n",
       "      <td>1.1</td>\n",
       "      <td>4.4 and up</td>\n",
       "      <td>2.8</td>\n",
       "    </tr>\n",
       "  </tbody>\n",
       "</table>\n",
       "</div>"
      ],
      "text/plain": [
       "                                                 App        Category  Rating  \\\n",
       "0     Photo Editor & Candy Camera & Grid & ScrapBook  ART_AND_DESIGN     4.1   \n",
       "1                                Coloring book moana  ART_AND_DESIGN     3.9   \n",
       "2  U Launcher Lite – FREE Live Cool Themes, Hide ...  ART_AND_DESIGN     4.7   \n",
       "3                              Sketch - Draw & Paint  ART_AND_DESIGN     4.5   \n",
       "4              Pixel Draw - Number Art Coloring Book  ART_AND_DESIGN     4.3   \n",
       "\n",
       "    Reviews  Size  Installs  Type Price Content Rating  \\\n",
       "0     159.0   19M     10000  Free     0       Everyone   \n",
       "1     967.0   14M    500000  Free     0       Everyone   \n",
       "2   87510.0  8.7M   5000000  Free     0       Everyone   \n",
       "3  215644.0   25M  50000000  Free     0           Teen   \n",
       "4     967.0  2.8M    100000  Free     0       Everyone   \n",
       "\n",
       "                      Genres Last Updated         Current Ver   Android Ver  \\\n",
       "0               Art & Design   2018-01-07               1.0.0  4.0.3 and up   \n",
       "1  Art & Design;Pretend Play   2018-01-15               2.0.0  4.0.3 and up   \n",
       "2               Art & Design   2018-08-01               1.2.4  4.0.3 and up   \n",
       "3               Art & Design   2018-06-08  Varies with device    4.2 and up   \n",
       "4    Art & Design;Creativity   2018-06-20                 1.1    4.4 and up   \n",
       "\n",
       "   Size_MB  \n",
       "0     19.0  \n",
       "1     14.0  \n",
       "2      8.7  \n",
       "3     25.0  \n",
       "4      2.8  "
      ]
     },
     "execution_count": 85,
     "metadata": {},
     "output_type": "execute_result"
    }
   ],
   "source": [
    "apps_df.head()"
   ]
  },
  {
   "cell_type": "code",
   "execution_count": 86,
   "id": "efa5721b-77fc-4472-8a46-1b1f349ea895",
   "metadata": {},
   "outputs": [],
   "source": [
    "reviews_df.drop_duplicates(inplace=True)\n",
    "reviews_df = reviews_df.dropna(subset=[\"App\", \"Translated_Review\"])"
   ]
  },
  {
   "cell_type": "code",
   "execution_count": 87,
   "id": "f7b42334-ad54-417c-ab92-17e9c4669676",
   "metadata": {},
   "outputs": [
    {
     "data": {
      "text/html": [
       "<div>\n",
       "<style scoped>\n",
       "    .dataframe tbody tr th:only-of-type {\n",
       "        vertical-align: middle;\n",
       "    }\n",
       "\n",
       "    .dataframe tbody tr th {\n",
       "        vertical-align: top;\n",
       "    }\n",
       "\n",
       "    .dataframe thead th {\n",
       "        text-align: right;\n",
       "    }\n",
       "</style>\n",
       "<table border=\"1\" class=\"dataframe\">\n",
       "  <thead>\n",
       "    <tr style=\"text-align: right;\">\n",
       "      <th></th>\n",
       "      <th>App</th>\n",
       "      <th>Translated_Review</th>\n",
       "      <th>Sentiment</th>\n",
       "      <th>Sentiment_Polarity</th>\n",
       "      <th>Sentiment_Subjectivity</th>\n",
       "    </tr>\n",
       "  </thead>\n",
       "  <tbody>\n",
       "    <tr>\n",
       "      <th>0</th>\n",
       "      <td>10 Best Foods for You</td>\n",
       "      <td>I like eat delicious food. That's I'm cooking ...</td>\n",
       "      <td>Positive</td>\n",
       "      <td>1.00</td>\n",
       "      <td>0.533333</td>\n",
       "    </tr>\n",
       "    <tr>\n",
       "      <th>1</th>\n",
       "      <td>10 Best Foods for You</td>\n",
       "      <td>This help eating healthy exercise regular basis</td>\n",
       "      <td>Positive</td>\n",
       "      <td>0.25</td>\n",
       "      <td>0.288462</td>\n",
       "    </tr>\n",
       "    <tr>\n",
       "      <th>3</th>\n",
       "      <td>10 Best Foods for You</td>\n",
       "      <td>Works great especially going grocery store</td>\n",
       "      <td>Positive</td>\n",
       "      <td>0.40</td>\n",
       "      <td>0.875000</td>\n",
       "    </tr>\n",
       "    <tr>\n",
       "      <th>4</th>\n",
       "      <td>10 Best Foods for You</td>\n",
       "      <td>Best idea us</td>\n",
       "      <td>Positive</td>\n",
       "      <td>1.00</td>\n",
       "      <td>0.300000</td>\n",
       "    </tr>\n",
       "    <tr>\n",
       "      <th>5</th>\n",
       "      <td>10 Best Foods for You</td>\n",
       "      <td>Best way</td>\n",
       "      <td>Positive</td>\n",
       "      <td>1.00</td>\n",
       "      <td>0.300000</td>\n",
       "    </tr>\n",
       "  </tbody>\n",
       "</table>\n",
       "</div>"
      ],
      "text/plain": [
       "                     App                                  Translated_Review  \\\n",
       "0  10 Best Foods for You  I like eat delicious food. That's I'm cooking ...   \n",
       "1  10 Best Foods for You    This help eating healthy exercise regular basis   \n",
       "3  10 Best Foods for You         Works great especially going grocery store   \n",
       "4  10 Best Foods for You                                       Best idea us   \n",
       "5  10 Best Foods for You                                           Best way   \n",
       "\n",
       "  Sentiment  Sentiment_Polarity  Sentiment_Subjectivity  \n",
       "0  Positive                1.00                0.533333  \n",
       "1  Positive                0.25                0.288462  \n",
       "3  Positive                0.40                0.875000  \n",
       "4  Positive                1.00                0.300000  \n",
       "5  Positive                1.00                0.300000  "
      ]
     },
     "execution_count": 87,
     "metadata": {},
     "output_type": "execute_result"
    }
   ],
   "source": [
    "reviews_df.head()"
   ]
  },
  {
   "cell_type": "code",
   "execution_count": 88,
   "id": "fb3c31bf-d5cf-48db-8dbf-b83edb67497f",
   "metadata": {},
   "outputs": [
    {
     "data": {
      "text/html": [
       "<div>\n",
       "<style scoped>\n",
       "    .dataframe tbody tr th:only-of-type {\n",
       "        vertical-align: middle;\n",
       "    }\n",
       "\n",
       "    .dataframe tbody tr th {\n",
       "        vertical-align: top;\n",
       "    }\n",
       "\n",
       "    .dataframe thead th {\n",
       "        text-align: right;\n",
       "    }\n",
       "</style>\n",
       "<table border=\"1\" class=\"dataframe\">\n",
       "  <thead>\n",
       "    <tr style=\"text-align: right;\">\n",
       "      <th></th>\n",
       "      <th>App</th>\n",
       "      <th>Translated_Review</th>\n",
       "      <th>Sentiment</th>\n",
       "      <th>Sentiment_Polarity</th>\n",
       "      <th>Sentiment_Subjectivity</th>\n",
       "      <th>Category</th>\n",
       "      <th>Rating</th>\n",
       "      <th>Reviews</th>\n",
       "      <th>Size</th>\n",
       "      <th>Installs</th>\n",
       "      <th>Type</th>\n",
       "      <th>Price</th>\n",
       "      <th>Content Rating</th>\n",
       "      <th>Genres</th>\n",
       "      <th>Last Updated</th>\n",
       "      <th>Current Ver</th>\n",
       "      <th>Android Ver</th>\n",
       "      <th>Size_MB</th>\n",
       "    </tr>\n",
       "  </thead>\n",
       "  <tbody>\n",
       "    <tr>\n",
       "      <th>0</th>\n",
       "      <td>10 Best Foods for You</td>\n",
       "      <td>I like eat delicious food. That's I'm cooking ...</td>\n",
       "      <td>Positive</td>\n",
       "      <td>1.00</td>\n",
       "      <td>0.533333</td>\n",
       "      <td>HEALTH_AND_FITNESS</td>\n",
       "      <td>4.0</td>\n",
       "      <td>2490.0</td>\n",
       "      <td>3.8M</td>\n",
       "      <td>500000</td>\n",
       "      <td>Free</td>\n",
       "      <td>0</td>\n",
       "      <td>Everyone 10+</td>\n",
       "      <td>Health &amp; Fitness</td>\n",
       "      <td>2017-02-17</td>\n",
       "      <td>1.9</td>\n",
       "      <td>2.3.3 and up</td>\n",
       "      <td>3.8</td>\n",
       "    </tr>\n",
       "    <tr>\n",
       "      <th>1</th>\n",
       "      <td>10 Best Foods for You</td>\n",
       "      <td>This help eating healthy exercise regular basis</td>\n",
       "      <td>Positive</td>\n",
       "      <td>0.25</td>\n",
       "      <td>0.288462</td>\n",
       "      <td>HEALTH_AND_FITNESS</td>\n",
       "      <td>4.0</td>\n",
       "      <td>2490.0</td>\n",
       "      <td>3.8M</td>\n",
       "      <td>500000</td>\n",
       "      <td>Free</td>\n",
       "      <td>0</td>\n",
       "      <td>Everyone 10+</td>\n",
       "      <td>Health &amp; Fitness</td>\n",
       "      <td>2017-02-17</td>\n",
       "      <td>1.9</td>\n",
       "      <td>2.3.3 and up</td>\n",
       "      <td>3.8</td>\n",
       "    </tr>\n",
       "    <tr>\n",
       "      <th>2</th>\n",
       "      <td>10 Best Foods for You</td>\n",
       "      <td>Works great especially going grocery store</td>\n",
       "      <td>Positive</td>\n",
       "      <td>0.40</td>\n",
       "      <td>0.875000</td>\n",
       "      <td>HEALTH_AND_FITNESS</td>\n",
       "      <td>4.0</td>\n",
       "      <td>2490.0</td>\n",
       "      <td>3.8M</td>\n",
       "      <td>500000</td>\n",
       "      <td>Free</td>\n",
       "      <td>0</td>\n",
       "      <td>Everyone 10+</td>\n",
       "      <td>Health &amp; Fitness</td>\n",
       "      <td>2017-02-17</td>\n",
       "      <td>1.9</td>\n",
       "      <td>2.3.3 and up</td>\n",
       "      <td>3.8</td>\n",
       "    </tr>\n",
       "    <tr>\n",
       "      <th>3</th>\n",
       "      <td>10 Best Foods for You</td>\n",
       "      <td>Best idea us</td>\n",
       "      <td>Positive</td>\n",
       "      <td>1.00</td>\n",
       "      <td>0.300000</td>\n",
       "      <td>HEALTH_AND_FITNESS</td>\n",
       "      <td>4.0</td>\n",
       "      <td>2490.0</td>\n",
       "      <td>3.8M</td>\n",
       "      <td>500000</td>\n",
       "      <td>Free</td>\n",
       "      <td>0</td>\n",
       "      <td>Everyone 10+</td>\n",
       "      <td>Health &amp; Fitness</td>\n",
       "      <td>2017-02-17</td>\n",
       "      <td>1.9</td>\n",
       "      <td>2.3.3 and up</td>\n",
       "      <td>3.8</td>\n",
       "    </tr>\n",
       "    <tr>\n",
       "      <th>4</th>\n",
       "      <td>10 Best Foods for You</td>\n",
       "      <td>Best way</td>\n",
       "      <td>Positive</td>\n",
       "      <td>1.00</td>\n",
       "      <td>0.300000</td>\n",
       "      <td>HEALTH_AND_FITNESS</td>\n",
       "      <td>4.0</td>\n",
       "      <td>2490.0</td>\n",
       "      <td>3.8M</td>\n",
       "      <td>500000</td>\n",
       "      <td>Free</td>\n",
       "      <td>0</td>\n",
       "      <td>Everyone 10+</td>\n",
       "      <td>Health &amp; Fitness</td>\n",
       "      <td>2017-02-17</td>\n",
       "      <td>1.9</td>\n",
       "      <td>2.3.3 and up</td>\n",
       "      <td>3.8</td>\n",
       "    </tr>\n",
       "  </tbody>\n",
       "</table>\n",
       "</div>"
      ],
      "text/plain": [
       "                     App                                  Translated_Review  \\\n",
       "0  10 Best Foods for You  I like eat delicious food. That's I'm cooking ...   \n",
       "1  10 Best Foods for You    This help eating healthy exercise regular basis   \n",
       "2  10 Best Foods for You         Works great especially going grocery store   \n",
       "3  10 Best Foods for You                                       Best idea us   \n",
       "4  10 Best Foods for You                                           Best way   \n",
       "\n",
       "  Sentiment  Sentiment_Polarity  Sentiment_Subjectivity            Category  \\\n",
       "0  Positive                1.00                0.533333  HEALTH_AND_FITNESS   \n",
       "1  Positive                0.25                0.288462  HEALTH_AND_FITNESS   \n",
       "2  Positive                0.40                0.875000  HEALTH_AND_FITNESS   \n",
       "3  Positive                1.00                0.300000  HEALTH_AND_FITNESS   \n",
       "4  Positive                1.00                0.300000  HEALTH_AND_FITNESS   \n",
       "\n",
       "   Rating  Reviews  Size Installs  Type Price Content Rating  \\\n",
       "0     4.0   2490.0  3.8M   500000  Free     0   Everyone 10+   \n",
       "1     4.0   2490.0  3.8M   500000  Free     0   Everyone 10+   \n",
       "2     4.0   2490.0  3.8M   500000  Free     0   Everyone 10+   \n",
       "3     4.0   2490.0  3.8M   500000  Free     0   Everyone 10+   \n",
       "4     4.0   2490.0  3.8M   500000  Free     0   Everyone 10+   \n",
       "\n",
       "             Genres Last Updated Current Ver   Android Ver  Size_MB  \n",
       "0  Health & Fitness   2017-02-17         1.9  2.3.3 and up      3.8  \n",
       "1  Health & Fitness   2017-02-17         1.9  2.3.3 and up      3.8  \n",
       "2  Health & Fitness   2017-02-17         1.9  2.3.3 and up      3.8  \n",
       "3  Health & Fitness   2017-02-17         1.9  2.3.3 and up      3.8  \n",
       "4  Health & Fitness   2017-02-17         1.9  2.3.3 and up      3.8  "
      ]
     },
     "execution_count": 88,
     "metadata": {},
     "output_type": "execute_result"
    }
   ],
   "source": [
    "#Merging the datasets\n",
    "merged_df = pd.merge(reviews_df, apps_df, on=\"App\", how=\"inner\")\n",
    "merged_df.head()"
   ]
  },
  {
   "cell_type": "code",
   "execution_count": 89,
   "id": "816431b9-ce63-470b-8cfc-85fe89858cf4",
   "metadata": {},
   "outputs": [
    {
     "data": {
      "text/html": [
       "<div>\n",
       "<style scoped>\n",
       "    .dataframe tbody tr th:only-of-type {\n",
       "        vertical-align: middle;\n",
       "    }\n",
       "\n",
       "    .dataframe tbody tr th {\n",
       "        vertical-align: top;\n",
       "    }\n",
       "\n",
       "    .dataframe thead th {\n",
       "        text-align: right;\n",
       "    }\n",
       "</style>\n",
       "<table border=\"1\" class=\"dataframe\">\n",
       "  <thead>\n",
       "    <tr style=\"text-align: right;\">\n",
       "      <th></th>\n",
       "      <th>App</th>\n",
       "      <th>Translated_Review</th>\n",
       "      <th>Sentiment</th>\n",
       "      <th>Sentiment_Polarity</th>\n",
       "      <th>Sentiment_Subjectivity</th>\n",
       "      <th>Category</th>\n",
       "      <th>Rating</th>\n",
       "      <th>Reviews</th>\n",
       "      <th>Size</th>\n",
       "      <th>Installs</th>\n",
       "      <th>Type</th>\n",
       "      <th>Price</th>\n",
       "      <th>Content Rating</th>\n",
       "      <th>Genres</th>\n",
       "      <th>Last Updated</th>\n",
       "      <th>Current Ver</th>\n",
       "      <th>Android Ver</th>\n",
       "      <th>Size_MB</th>\n",
       "    </tr>\n",
       "  </thead>\n",
       "  <tbody>\n",
       "    <tr>\n",
       "      <th>0</th>\n",
       "      <td>10 Best Foods for You</td>\n",
       "      <td>I like eat delicious food. That's I'm cooking ...</td>\n",
       "      <td>Positive</td>\n",
       "      <td>1.00</td>\n",
       "      <td>0.533333</td>\n",
       "      <td>HEALTH_AND_FITNESS</td>\n",
       "      <td>4.0</td>\n",
       "      <td>2490.0</td>\n",
       "      <td>3.8M</td>\n",
       "      <td>500000</td>\n",
       "      <td>Free</td>\n",
       "      <td>0</td>\n",
       "      <td>Everyone 10+</td>\n",
       "      <td>Health &amp; Fitness</td>\n",
       "      <td>2017-02-17</td>\n",
       "      <td>1.9</td>\n",
       "      <td>2.3.3 and up</td>\n",
       "      <td>3.8</td>\n",
       "    </tr>\n",
       "    <tr>\n",
       "      <th>1</th>\n",
       "      <td>10 Best Foods for You</td>\n",
       "      <td>This help eating healthy exercise regular basis</td>\n",
       "      <td>Positive</td>\n",
       "      <td>0.25</td>\n",
       "      <td>0.288462</td>\n",
       "      <td>HEALTH_AND_FITNESS</td>\n",
       "      <td>4.0</td>\n",
       "      <td>2490.0</td>\n",
       "      <td>3.8M</td>\n",
       "      <td>500000</td>\n",
       "      <td>Free</td>\n",
       "      <td>0</td>\n",
       "      <td>Everyone 10+</td>\n",
       "      <td>Health &amp; Fitness</td>\n",
       "      <td>2017-02-17</td>\n",
       "      <td>1.9</td>\n",
       "      <td>2.3.3 and up</td>\n",
       "      <td>3.8</td>\n",
       "    </tr>\n",
       "    <tr>\n",
       "      <th>2</th>\n",
       "      <td>10 Best Foods for You</td>\n",
       "      <td>Works great especially going grocery store</td>\n",
       "      <td>Positive</td>\n",
       "      <td>0.40</td>\n",
       "      <td>0.875000</td>\n",
       "      <td>HEALTH_AND_FITNESS</td>\n",
       "      <td>4.0</td>\n",
       "      <td>2490.0</td>\n",
       "      <td>3.8M</td>\n",
       "      <td>500000</td>\n",
       "      <td>Free</td>\n",
       "      <td>0</td>\n",
       "      <td>Everyone 10+</td>\n",
       "      <td>Health &amp; Fitness</td>\n",
       "      <td>2017-02-17</td>\n",
       "      <td>1.9</td>\n",
       "      <td>2.3.3 and up</td>\n",
       "      <td>3.8</td>\n",
       "    </tr>\n",
       "    <tr>\n",
       "      <th>3</th>\n",
       "      <td>10 Best Foods for You</td>\n",
       "      <td>Best idea us</td>\n",
       "      <td>Positive</td>\n",
       "      <td>1.00</td>\n",
       "      <td>0.300000</td>\n",
       "      <td>HEALTH_AND_FITNESS</td>\n",
       "      <td>4.0</td>\n",
       "      <td>2490.0</td>\n",
       "      <td>3.8M</td>\n",
       "      <td>500000</td>\n",
       "      <td>Free</td>\n",
       "      <td>0</td>\n",
       "      <td>Everyone 10+</td>\n",
       "      <td>Health &amp; Fitness</td>\n",
       "      <td>2017-02-17</td>\n",
       "      <td>1.9</td>\n",
       "      <td>2.3.3 and up</td>\n",
       "      <td>3.8</td>\n",
       "    </tr>\n",
       "    <tr>\n",
       "      <th>4</th>\n",
       "      <td>10 Best Foods for You</td>\n",
       "      <td>Best way</td>\n",
       "      <td>Positive</td>\n",
       "      <td>1.00</td>\n",
       "      <td>0.300000</td>\n",
       "      <td>HEALTH_AND_FITNESS</td>\n",
       "      <td>4.0</td>\n",
       "      <td>2490.0</td>\n",
       "      <td>3.8M</td>\n",
       "      <td>500000</td>\n",
       "      <td>Free</td>\n",
       "      <td>0</td>\n",
       "      <td>Everyone 10+</td>\n",
       "      <td>Health &amp; Fitness</td>\n",
       "      <td>2017-02-17</td>\n",
       "      <td>1.9</td>\n",
       "      <td>2.3.3 and up</td>\n",
       "      <td>3.8</td>\n",
       "    </tr>\n",
       "  </tbody>\n",
       "</table>\n",
       "</div>"
      ],
      "text/plain": [
       "                     App                                  Translated_Review  \\\n",
       "0  10 Best Foods for You  I like eat delicious food. That's I'm cooking ...   \n",
       "1  10 Best Foods for You    This help eating healthy exercise regular basis   \n",
       "2  10 Best Foods for You         Works great especially going grocery store   \n",
       "3  10 Best Foods for You                                       Best idea us   \n",
       "4  10 Best Foods for You                                           Best way   \n",
       "\n",
       "  Sentiment  Sentiment_Polarity  Sentiment_Subjectivity            Category  \\\n",
       "0  Positive                1.00                0.533333  HEALTH_AND_FITNESS   \n",
       "1  Positive                0.25                0.288462  HEALTH_AND_FITNESS   \n",
       "2  Positive                0.40                0.875000  HEALTH_AND_FITNESS   \n",
       "3  Positive                1.00                0.300000  HEALTH_AND_FITNESS   \n",
       "4  Positive                1.00                0.300000  HEALTH_AND_FITNESS   \n",
       "\n",
       "   Rating  Reviews  Size Installs  Type Price Content Rating  \\\n",
       "0     4.0   2490.0  3.8M   500000  Free     0   Everyone 10+   \n",
       "1     4.0   2490.0  3.8M   500000  Free     0   Everyone 10+   \n",
       "2     4.0   2490.0  3.8M   500000  Free     0   Everyone 10+   \n",
       "3     4.0   2490.0  3.8M   500000  Free     0   Everyone 10+   \n",
       "4     4.0   2490.0  3.8M   500000  Free     0   Everyone 10+   \n",
       "\n",
       "             Genres Last Updated Current Ver   Android Ver  Size_MB  \n",
       "0  Health & Fitness   2017-02-17         1.9  2.3.3 and up      3.8  \n",
       "1  Health & Fitness   2017-02-17         1.9  2.3.3 and up      3.8  \n",
       "2  Health & Fitness   2017-02-17         1.9  2.3.3 and up      3.8  \n",
       "3  Health & Fitness   2017-02-17         1.9  2.3.3 and up      3.8  \n",
       "4  Health & Fitness   2017-02-17         1.9  2.3.3 and up      3.8  "
      ]
     },
     "execution_count": 89,
     "metadata": {},
     "output_type": "execute_result"
    }
   ],
   "source": [
    "#Applying the filters\n",
    "filtered = merged_df[\n",
    "    (merged_df[\"Rating\"] >= 4.0) &\n",
    "    (merged_df[\"Size_MB\"] >= 10) &\n",
    "    (merged_df[\"Last Updated\"].dt.month == 1)\n",
    "].copy()\n",
    "\n",
    "\n",
    "\n",
    "merged_df.head()"
   ]
  },
  {
   "cell_type": "code",
   "execution_count": 90,
   "id": "9f8eb6c8-7d75-47f1-9918-0c74ad171c6e",
   "metadata": {},
   "outputs": [],
   "source": [
    "category_stats = filtered.groupby(\"Category\").agg({\n",
    "    \"Rating\": \"mean\",\n",
    "    \"Reviews\": \"sum\",\n",
    "    \"Installs\": \"sum\"\n",
    "}).reset_index()\n",
    "\n",
    "top10 = category_stats.sort_values(\"Installs\", ascending=False).head(10)"
   ]
  },
  {
   "cell_type": "code",
   "execution_count": 91,
   "id": "0a3893b1-490f-49f4-8160-f80503d3a575",
   "metadata": {},
   "outputs": [],
   "source": [
    "sia = SentimentIntensityAnalyzer()\n",
    "filtered[\"sentiment\"] = filtered[\"Translated_Review\"].apply(\n",
    "    lambda x: \"Positive\" if sia.polarity_scores(str(x))[\"compound\"] > 0.05\n",
    "    else \"Negative\" if sia.polarity_scores(str(x))[\"compound\"] < -0.05\n",
    "    else \"Neutral\"\n",
    ")\n",
    "\n",
    "sentiment_counts = filtered[\"sentiment\"].value_counts().reset_index()\n",
    "sentiment_counts.columns = [\"Sentiment\", \"Count\"]\n",
    "\n"
   ]
  },
  {
   "cell_type": "code",
   "execution_count": 92,
   "id": "6db64db8-edee-4f4b-988f-3bfb24588364",
   "metadata": {},
   "outputs": [],
   "source": [
    "# Ensure Installs and Reviews are numeric\n",
    "filtered[\"Installs\"] = pd.to_numeric(filtered[\"Installs\"], errors=\"coerce\")\n",
    "filtered[\"Reviews\"] = pd.to_numeric(filtered[\"Reviews\"], errors=\"coerce\")\n",
    "filtered[\"Rating\"] = pd.to_numeric(filtered[\"Rating\"], errors=\"coerce\")\n",
    "\n",
    "# Drop rows with missing values in key columns\n",
    "filtered = filtered.dropna(subset=[\"Installs\", \"Reviews\", \"Rating\"])\n"
   ]
  },
  {
   "cell_type": "code",
   "execution_count": 93,
   "id": "6f29fbc0-184f-420a-9013-b1bc8718be91",
   "metadata": {},
   "outputs": [],
   "source": [
    "# Gradient pastel colors\n",
    "rating_colors = ['#b2fab4', '#a0e6a0', '#8ce08c', '#79db79', '#66d566',\n",
    "                 '#53d053', '#40cc40', '#2db92d', '#1ab61a', '#07a507']  # pastel green\n",
    "reviews_colors = ['#e6c2f0', '#d9aef0', '#cc99f0', '#bf85f0', '#b371f0',\n",
    "                  '#a85de0', '#9c49d0', '#8f35c0', '#831fb0', '#7610a0']  # pastel purple\n",
    "trend_colors = ['#ffd8a8', '#ffc680', '#ffb347', '#ffa500', '#ff9933',\n",
    "                '#ff8c1a', '#ff7f00', '#ff7300', '#ff6600', '#ff5900']  # pastel orange\n"
   ]
  },
  {
   "cell_type": "code",
   "execution_count": 94,
   "id": "5a36a4d8-9889-4ead-925d-ad7955e903af",
   "metadata": {},
   "outputs": [
    {
     "data": {
      "application/vnd.plotly.v1+json": {
       "config": {
        "plotlyServerURL": "https://plot.ly"
       },
       "data": [
        {
         "hovertemplate": "Category: %{x}<br>Rating: %{y}<extra></extra>",
         "marker": {
          "color": [
           "#b2fab4",
           "#a0e6a0",
           "#8ce08c",
           "#79db79",
           "#66d566",
           "#53d053",
           "#40cc40",
           "#2db92d",
           "#1ab61a",
           "#07a507"
          ],
          "line": {
           "color": "green",
           "width": 1
          }
         },
         "name": "Average Rating",
         "text": {
          "bdata": "AAAAAAAAEECamZmZmZkRQM3MzMzMzBBA",
          "dtype": "f8"
         },
         "textposition": "auto",
         "type": "bar",
         "x": [
          "PHOTOGRAPHY",
          "FAMILY",
          "ART_AND_DESIGN"
         ],
         "y": {
          "bdata": "AAAAAAAAEECamZmZmZkRQM3MzMzMzBBA",
          "dtype": "f8"
         }
        },
        {
         "hovertemplate": "Category: %{x}<br>Reviews: %{y}<extra></extra>",
         "marker": {
          "color": [
           "#e6c2f0",
           "#d9aef0",
           "#cc99f0",
           "#bf85f0",
           "#b371f0",
           "#a85de0",
           "#9c49d0",
           "#8f35c0",
           "#831fb0",
           "#7610a0"
          ],
          "line": {
           "color": "purple",
           "width": 1
          }
         },
         "name": "Total Reviews",
         "text": {
          "bdata": "AAAAAOIuKUEAAABACB9RQQAAAADA2eBA",
          "dtype": "f8"
         },
         "textposition": "auto",
         "type": "bar",
         "x": [
          "PHOTOGRAPHY",
          "FAMILY",
          "ART_AND_DESIGN"
         ],
         "y": {
          "bdata": "AAAAAOIuKUEAAABACB9RQQAAAADA2eBA",
          "dtype": "f8"
         }
        }
       ],
       "layout": {
        "barmode": "group",
        "font": {
         "color": "black",
         "family": "Garamond, sans-serif",
         "size": 12
        },
        "height": 600,
        "margin": {
         "b": 50,
         "l": 50,
         "r": 50,
         "t": 80
        },
        "template": {
         "data": {
          "bar": [
           {
            "error_x": {
             "color": "#2a3f5f"
            },
            "error_y": {
             "color": "#2a3f5f"
            },
            "marker": {
             "line": {
              "color": "white",
              "width": 0.5
             },
             "pattern": {
              "fillmode": "overlay",
              "size": 10,
              "solidity": 0.2
             }
            },
            "type": "bar"
           }
          ],
          "barpolar": [
           {
            "marker": {
             "line": {
              "color": "white",
              "width": 0.5
             },
             "pattern": {
              "fillmode": "overlay",
              "size": 10,
              "solidity": 0.2
             }
            },
            "type": "barpolar"
           }
          ],
          "carpet": [
           {
            "aaxis": {
             "endlinecolor": "#2a3f5f",
             "gridcolor": "#C8D4E3",
             "linecolor": "#C8D4E3",
             "minorgridcolor": "#C8D4E3",
             "startlinecolor": "#2a3f5f"
            },
            "baxis": {
             "endlinecolor": "#2a3f5f",
             "gridcolor": "#C8D4E3",
             "linecolor": "#C8D4E3",
             "minorgridcolor": "#C8D4E3",
             "startlinecolor": "#2a3f5f"
            },
            "type": "carpet"
           }
          ],
          "choropleth": [
           {
            "colorbar": {
             "outlinewidth": 0,
             "ticks": ""
            },
            "type": "choropleth"
           }
          ],
          "contour": [
           {
            "colorbar": {
             "outlinewidth": 0,
             "ticks": ""
            },
            "colorscale": [
             [
              0,
              "#0d0887"
             ],
             [
              0.1111111111111111,
              "#46039f"
             ],
             [
              0.2222222222222222,
              "#7201a8"
             ],
             [
              0.3333333333333333,
              "#9c179e"
             ],
             [
              0.4444444444444444,
              "#bd3786"
             ],
             [
              0.5555555555555556,
              "#d8576b"
             ],
             [
              0.6666666666666666,
              "#ed7953"
             ],
             [
              0.7777777777777778,
              "#fb9f3a"
             ],
             [
              0.8888888888888888,
              "#fdca26"
             ],
             [
              1,
              "#f0f921"
             ]
            ],
            "type": "contour"
           }
          ],
          "contourcarpet": [
           {
            "colorbar": {
             "outlinewidth": 0,
             "ticks": ""
            },
            "type": "contourcarpet"
           }
          ],
          "heatmap": [
           {
            "colorbar": {
             "outlinewidth": 0,
             "ticks": ""
            },
            "colorscale": [
             [
              0,
              "#0d0887"
             ],
             [
              0.1111111111111111,
              "#46039f"
             ],
             [
              0.2222222222222222,
              "#7201a8"
             ],
             [
              0.3333333333333333,
              "#9c179e"
             ],
             [
              0.4444444444444444,
              "#bd3786"
             ],
             [
              0.5555555555555556,
              "#d8576b"
             ],
             [
              0.6666666666666666,
              "#ed7953"
             ],
             [
              0.7777777777777778,
              "#fb9f3a"
             ],
             [
              0.8888888888888888,
              "#fdca26"
             ],
             [
              1,
              "#f0f921"
             ]
            ],
            "type": "heatmap"
           }
          ],
          "histogram": [
           {
            "marker": {
             "pattern": {
              "fillmode": "overlay",
              "size": 10,
              "solidity": 0.2
             }
            },
            "type": "histogram"
           }
          ],
          "histogram2d": [
           {
            "colorbar": {
             "outlinewidth": 0,
             "ticks": ""
            },
            "colorscale": [
             [
              0,
              "#0d0887"
             ],
             [
              0.1111111111111111,
              "#46039f"
             ],
             [
              0.2222222222222222,
              "#7201a8"
             ],
             [
              0.3333333333333333,
              "#9c179e"
             ],
             [
              0.4444444444444444,
              "#bd3786"
             ],
             [
              0.5555555555555556,
              "#d8576b"
             ],
             [
              0.6666666666666666,
              "#ed7953"
             ],
             [
              0.7777777777777778,
              "#fb9f3a"
             ],
             [
              0.8888888888888888,
              "#fdca26"
             ],
             [
              1,
              "#f0f921"
             ]
            ],
            "type": "histogram2d"
           }
          ],
          "histogram2dcontour": [
           {
            "colorbar": {
             "outlinewidth": 0,
             "ticks": ""
            },
            "colorscale": [
             [
              0,
              "#0d0887"
             ],
             [
              0.1111111111111111,
              "#46039f"
             ],
             [
              0.2222222222222222,
              "#7201a8"
             ],
             [
              0.3333333333333333,
              "#9c179e"
             ],
             [
              0.4444444444444444,
              "#bd3786"
             ],
             [
              0.5555555555555556,
              "#d8576b"
             ],
             [
              0.6666666666666666,
              "#ed7953"
             ],
             [
              0.7777777777777778,
              "#fb9f3a"
             ],
             [
              0.8888888888888888,
              "#fdca26"
             ],
             [
              1,
              "#f0f921"
             ]
            ],
            "type": "histogram2dcontour"
           }
          ],
          "mesh3d": [
           {
            "colorbar": {
             "outlinewidth": 0,
             "ticks": ""
            },
            "type": "mesh3d"
           }
          ],
          "parcoords": [
           {
            "line": {
             "colorbar": {
              "outlinewidth": 0,
              "ticks": ""
             }
            },
            "type": "parcoords"
           }
          ],
          "pie": [
           {
            "automargin": true,
            "type": "pie"
           }
          ],
          "scatter": [
           {
            "fillpattern": {
             "fillmode": "overlay",
             "size": 10,
             "solidity": 0.2
            },
            "type": "scatter"
           }
          ],
          "scatter3d": [
           {
            "line": {
             "colorbar": {
              "outlinewidth": 0,
              "ticks": ""
             }
            },
            "marker": {
             "colorbar": {
              "outlinewidth": 0,
              "ticks": ""
             }
            },
            "type": "scatter3d"
           }
          ],
          "scattercarpet": [
           {
            "marker": {
             "colorbar": {
              "outlinewidth": 0,
              "ticks": ""
             }
            },
            "type": "scattercarpet"
           }
          ],
          "scattergeo": [
           {
            "marker": {
             "colorbar": {
              "outlinewidth": 0,
              "ticks": ""
             }
            },
            "type": "scattergeo"
           }
          ],
          "scattergl": [
           {
            "marker": {
             "colorbar": {
              "outlinewidth": 0,
              "ticks": ""
             }
            },
            "type": "scattergl"
           }
          ],
          "scattermap": [
           {
            "marker": {
             "colorbar": {
              "outlinewidth": 0,
              "ticks": ""
             }
            },
            "type": "scattermap"
           }
          ],
          "scattermapbox": [
           {
            "marker": {
             "colorbar": {
              "outlinewidth": 0,
              "ticks": ""
             }
            },
            "type": "scattermapbox"
           }
          ],
          "scatterpolar": [
           {
            "marker": {
             "colorbar": {
              "outlinewidth": 0,
              "ticks": ""
             }
            },
            "type": "scatterpolar"
           }
          ],
          "scatterpolargl": [
           {
            "marker": {
             "colorbar": {
              "outlinewidth": 0,
              "ticks": ""
             }
            },
            "type": "scatterpolargl"
           }
          ],
          "scatterternary": [
           {
            "marker": {
             "colorbar": {
              "outlinewidth": 0,
              "ticks": ""
             }
            },
            "type": "scatterternary"
           }
          ],
          "surface": [
           {
            "colorbar": {
             "outlinewidth": 0,
             "ticks": ""
            },
            "colorscale": [
             [
              0,
              "#0d0887"
             ],
             [
              0.1111111111111111,
              "#46039f"
             ],
             [
              0.2222222222222222,
              "#7201a8"
             ],
             [
              0.3333333333333333,
              "#9c179e"
             ],
             [
              0.4444444444444444,
              "#bd3786"
             ],
             [
              0.5555555555555556,
              "#d8576b"
             ],
             [
              0.6666666666666666,
              "#ed7953"
             ],
             [
              0.7777777777777778,
              "#fb9f3a"
             ],
             [
              0.8888888888888888,
              "#fdca26"
             ],
             [
              1,
              "#f0f921"
             ]
            ],
            "type": "surface"
           }
          ],
          "table": [
           {
            "cells": {
             "fill": {
              "color": "#EBF0F8"
             },
             "line": {
              "color": "white"
             }
            },
            "header": {
             "fill": {
              "color": "#C8D4E3"
             },
             "line": {
              "color": "white"
             }
            },
            "type": "table"
           }
          ]
         },
         "layout": {
          "annotationdefaults": {
           "arrowcolor": "#2a3f5f",
           "arrowhead": 0,
           "arrowwidth": 1
          },
          "autotypenumbers": "strict",
          "coloraxis": {
           "colorbar": {
            "outlinewidth": 0,
            "ticks": ""
           }
          },
          "colorscale": {
           "diverging": [
            [
             0,
             "#8e0152"
            ],
            [
             0.1,
             "#c51b7d"
            ],
            [
             0.2,
             "#de77ae"
            ],
            [
             0.3,
             "#f1b6da"
            ],
            [
             0.4,
             "#fde0ef"
            ],
            [
             0.5,
             "#f7f7f7"
            ],
            [
             0.6,
             "#e6f5d0"
            ],
            [
             0.7,
             "#b8e186"
            ],
            [
             0.8,
             "#7fbc41"
            ],
            [
             0.9,
             "#4d9221"
            ],
            [
             1,
             "#276419"
            ]
           ],
           "sequential": [
            [
             0,
             "#0d0887"
            ],
            [
             0.1111111111111111,
             "#46039f"
            ],
            [
             0.2222222222222222,
             "#7201a8"
            ],
            [
             0.3333333333333333,
             "#9c179e"
            ],
            [
             0.4444444444444444,
             "#bd3786"
            ],
            [
             0.5555555555555556,
             "#d8576b"
            ],
            [
             0.6666666666666666,
             "#ed7953"
            ],
            [
             0.7777777777777778,
             "#fb9f3a"
            ],
            [
             0.8888888888888888,
             "#fdca26"
            ],
            [
             1,
             "#f0f921"
            ]
           ],
           "sequentialminus": [
            [
             0,
             "#0d0887"
            ],
            [
             0.1111111111111111,
             "#46039f"
            ],
            [
             0.2222222222222222,
             "#7201a8"
            ],
            [
             0.3333333333333333,
             "#9c179e"
            ],
            [
             0.4444444444444444,
             "#bd3786"
            ],
            [
             0.5555555555555556,
             "#d8576b"
            ],
            [
             0.6666666666666666,
             "#ed7953"
            ],
            [
             0.7777777777777778,
             "#fb9f3a"
            ],
            [
             0.8888888888888888,
             "#fdca26"
            ],
            [
             1,
             "#f0f921"
            ]
           ]
          },
          "colorway": [
           "#636efa",
           "#EF553B",
           "#00cc96",
           "#ab63fa",
           "#FFA15A",
           "#19d3f3",
           "#FF6692",
           "#B6E880",
           "#FF97FF",
           "#FECB52"
          ],
          "font": {
           "color": "#2a3f5f"
          },
          "geo": {
           "bgcolor": "white",
           "lakecolor": "white",
           "landcolor": "white",
           "showlakes": true,
           "showland": true,
           "subunitcolor": "#C8D4E3"
          },
          "hoverlabel": {
           "align": "left"
          },
          "hovermode": "closest",
          "mapbox": {
           "style": "light"
          },
          "paper_bgcolor": "white",
          "plot_bgcolor": "white",
          "polar": {
           "angularaxis": {
            "gridcolor": "#EBF0F8",
            "linecolor": "#EBF0F8",
            "ticks": ""
           },
           "bgcolor": "white",
           "radialaxis": {
            "gridcolor": "#EBF0F8",
            "linecolor": "#EBF0F8",
            "ticks": ""
           }
          },
          "scene": {
           "xaxis": {
            "backgroundcolor": "white",
            "gridcolor": "#DFE8F3",
            "gridwidth": 2,
            "linecolor": "#EBF0F8",
            "showbackground": true,
            "ticks": "",
            "zerolinecolor": "#EBF0F8"
           },
           "yaxis": {
            "backgroundcolor": "white",
            "gridcolor": "#DFE8F3",
            "gridwidth": 2,
            "linecolor": "#EBF0F8",
            "showbackground": true,
            "ticks": "",
            "zerolinecolor": "#EBF0F8"
           },
           "zaxis": {
            "backgroundcolor": "white",
            "gridcolor": "#DFE8F3",
            "gridwidth": 2,
            "linecolor": "#EBF0F8",
            "showbackground": true,
            "ticks": "",
            "zerolinecolor": "#EBF0F8"
           }
          },
          "shapedefaults": {
           "line": {
            "color": "#2a3f5f"
           }
          },
          "ternary": {
           "aaxis": {
            "gridcolor": "#DFE8F3",
            "linecolor": "#A2B1C6",
            "ticks": ""
           },
           "baxis": {
            "gridcolor": "#DFE8F3",
            "linecolor": "#A2B1C6",
            "ticks": ""
           },
           "bgcolor": "white",
           "caxis": {
            "gridcolor": "#DFE8F3",
            "linecolor": "#A2B1C6",
            "ticks": ""
           }
          },
          "title": {
           "x": 0.05
          },
          "xaxis": {
           "automargin": true,
           "gridcolor": "#EBF0F8",
           "linecolor": "#EBF0F8",
           "ticks": "",
           "title": {
            "standoff": 15
           },
           "zerolinecolor": "#EBF0F8",
           "zerolinewidth": 2
          },
          "yaxis": {
           "automargin": true,
           "gridcolor": "#EBF0F8",
           "linecolor": "#EBF0F8",
           "ticks": "",
           "title": {
            "standoff": 15
           },
           "zerolinecolor": "#EBF0F8",
           "zerolinewidth": 2
          }
         }
        },
        "title": {
         "font": {
          "color": "black",
          "family": "Georgia, serif",
          "size": 18
         },
         "text": "<b>Top 10 App Categories by Installs</b>",
         "x": 0.5,
         "xanchor": "center",
         "y": 0.95,
         "yanchor": "top"
        },
        "width": 1000,
        "xaxis": {
         "title": {
          "text": "Category"
         }
        },
        "yaxis": {
         "title": {
          "text": "Values"
         }
        }
       }
      }
     },
     "metadata": {},
     "output_type": "display_data"
    }
   ],
   "source": [
    "import plotly.graph_objects as go\n",
    "\n",
    "categories = top10[\"Category\"]\n",
    "\n",
    "\n",
    "main_fig = go.Figure()\n",
    "\n",
    "# Average Rating bar (gradient pastel green)\n",
    "main_fig.add_trace(go.Bar(\n",
    "    x=categories,\n",
    "    y=top10[\"Rating\"],\n",
    "    name=\"Average Rating\",\n",
    "    marker=dict(color=rating_colors, line=dict(color='green', width=1)),\n",
    "    text=top10[\"Rating\"],\n",
    "    textposition='auto',\n",
    "    hovertemplate='Category: %{x}<br>Rating: %{y}<extra></extra>'\n",
    "))\n",
    "\n",
    "# Total Reviews bar (gradient pastel purple)\n",
    "main_fig.add_trace(go.Bar(\n",
    "    x=categories,\n",
    "    y=top10[\"Reviews\"],\n",
    "    name=\"Total Reviews\",\n",
    "    marker=dict(color=reviews_colors, line=dict(color='purple', width=1)),\n",
    "    text=top10[\"Reviews\"],\n",
    "    textposition='auto',\n",
    "    hovertemplate='Category: %{x}<br>Reviews: %{y}<extra></extra>'\n",
    "))\n",
    "\n",
    "\n",
    "# Layout customization\n",
    "main_fig.update_layout(\n",
    "    title={\n",
    "        'text': \"<b>Top 10 App Categories by Installs</b>\",\n",
    "        'y':0.95,\n",
    "        'x':0.5,\n",
    "        'xanchor': 'center',\n",
    "        'yanchor': 'top',\n",
    "        'font':dict(family=\"Georgia, serif\", size=18, color=\"black\")\n",
    "    },\n",
    "    barmode='group',\n",
    "    xaxis_title=\"Category\",\n",
    "    yaxis_title=\"Values\",\n",
    "    template=\"plotly_white\",  \n",
    "    height=600,\n",
    "    width=1000,\n",
    "    font=dict(family=\"Garamond, sans-serif\", size=12, color=\"black\"),\n",
    "    margin=dict(l=50, r=50, t=80, b=50),\n",
    ")\n",
    "\n",
    "\n",
    "main_fig.show()\n",
    "\n"
   ]
  },
  {
   "cell_type": "code",
   "execution_count": 95,
   "id": "b2d263b4-826f-40ea-bac3-367265a3daf2",
   "metadata": {
    "scrolled": true
   },
   "outputs": [],
   "source": [
    "import plotly.express as px\n",
    "import pandas as pd\n",
    "\n",
    "# Updated pastel color palette\n",
    "pastel_colors = [\"#ffb6c1\",  # light pink\n",
    "                 \"#deb887\",  # light brown\n",
    "                 \"#add8e6\"]  # pastel blue\n",
    "\n",
    "pastel_sentiments = [\"#ffb6c1\", \"#d8b4ff\", \"#ffd8a8\", \"#deb887\", \"#add8e6\"]\n",
    "\n",
    "# Chart 1: Pie Chart with black outline\n",
    "chart1 = px.pie(\n",
    "    filtered,\n",
    "    names=\"Category\",\n",
    "    values=\"Installs\",\n",
    "    title=\"Install Distribution by Category\",\n",
    "    color=\"Category\",\n",
    "    color_discrete_sequence=pastel_colors*5\n",
    ")\n",
    "\n",
    "chart1.update_traces(marker=dict(line=dict(color=\"black\", width=2)))\n",
    "\n",
    "\n",
    "# Chart 2: Line Chart (Average Rating per Category) with black markers\n",
    "avg_rating = filtered.groupby(\"Category\")[\"Rating\"].mean().reset_index()\n",
    "chart2 = px.line(\n",
    "    avg_rating,\n",
    "    x=\"Category\",\n",
    "    y=\"Rating\",\n",
    "    title=\"Average Rating Trend per Category\",\n",
    "    markers=True,\n",
    "    color_discrete_sequence=[\"#deb887\"]  # light brown line\n",
    ")\n",
    "chart2.update_traces(marker=dict(color=\"#deb887\", line=dict(color=\"black\", width=2)))  # black outline\n",
    "\n",
    "# Chart 3: Scatter Plot with black marker outlines\n",
    "chart3 = px.scatter(\n",
    "    filtered,\n",
    "    x=\"Reviews\",\n",
    "    y=\"Rating\",\n",
    "    size=\"Installs\",\n",
    "    color=\"Category\",\n",
    "    hover_name=\"Category\",\n",
    "    title=\"Reviews vs Rating with Installs\",\n",
    "    color_discrete_sequence=pastel_colors*5\n",
    ")\n",
    "chart3.update_traces(marker=dict(line=dict(color=\"black\", width=1.5)))  # black outline\n",
    "\n",
    "# Chart 4: Bar Chart (Sentiment Analysis) with black outlines\n",
    "chart4 = px.bar(\n",
    "    sentiment_counts,\n",
    "    x=\"Sentiment\",\n",
    "    y=\"Count\",\n",
    "    color=\"Sentiment\",\n",
    "    title=\"User Sentiment Analysis\",\n",
    "    text=\"Count\",\n",
    "    color_discrete_sequence=pastel_sentiments\n",
    ")\n",
    "chart4.update_traces(marker=dict(line=dict(color=\"black\", width=1.5)))  # black outline\n",
    "\n",
    "# Update layout for all charts\n",
    "for chart in [chart1, chart2, chart3, chart4]:\n",
    "    chart.update_layout(\n",
    "        template=\"plotly_white\",\n",
    "        font=dict(family=\"Garamond, sans-serif\", size=12, color=\"black\"),\n",
    "        title=dict(\n",
    "            font=dict(family=\"Georgia, serif\", size=18, color=\"black\"),  # title font\n",
    "            text=f\"<b>{chart.layout.title.text}</b>\"  # make title bold\n",
    "        ),\n",
    "        margin=dict(l=40, r=40, t=60, b=40),\n",
    "        height=500\n",
    "    )\n",
    "\n"
   ]
  },
  {
   "cell_type": "code",
   "execution_count": 96,
   "id": "432b3a5a-7d35-43f9-835f-5a3ce3901a41",
   "metadata": {},
   "outputs": [
    {
     "name": "stdout",
     "output_type": "stream",
     "text": [
      "interactive.html responsive website created successfully! Ready to host\n"
     ]
    }
   ],
   "source": [
    "html_content = f\"\"\"\n",
    "<html lang=\"en\">\n",
    "<head>\n",
    "    <meta charset=\"UTF-8\">\n",
    "    <meta name=\"viewport\" content=\"width=device-width, initial-scale=1.0\">\n",
    "    <title>App Analytics Dashboard</title>\n",
    "    <style>\n",
    "        body {{\n",
    "            font-family: Arial, sans-serif;\n",
    "            background-color: #f9f9f9;\n",
    "            margin: 0;\n",
    "            padding: 0;\n",
    "        }}\n",
    "        .header {{\n",
    "            display: flex;\n",
    "            justify-content: space-between;\n",
    "            align-items: center;\n",
    "            padding: 15px 20px;\n",
    "            background: white;\n",
    "            box-shadow: 0px 4px 8px rgba(0,0,0,0.05);\n",
    "            flex-wrap: wrap;\n",
    "        }}\n",
    "        .header h1 {{\n",
    "            font-size: 24px;\n",
    "            margin: 10px;\n",
    "            flex-grow: 1;\n",
    "            text-align: center;\n",
    "        }}\n",
    "        .header img {{\n",
    "            height: 40px;\n",
    "        }}\n",
    "        .clock {{\n",
    "            font-size: 16px;\n",
    "            color: #444;\n",
    "            margin-top: 10px;\n",
    "            text-align: right;\n",
    "            width: 100%;\n",
    "        }}\n",
    "        .main {{\n",
    "            text-align: center;\n",
    "            padding: 20px;\n",
    "        }}\n",
    "        .chart-large {{\n",
    "            margin: auto;\n",
    "            width: 95%;\n",
    "            height: 600px;\n",
    "            border: 2px solid #ddd;\n",
    "            border-radius: 12px;\n",
    "            box-shadow: 0px 4px 10px rgba(0,0,0,0.1);\n",
    "            padding: 10px;\n",
    "            background: white;\n",
    "        }}\n",
    "        .grid {{\n",
    "            display: grid;\n",
    "            grid-template-columns: 1fr 1fr;\n",
    "            gap: 20px;\n",
    "            padding: 20px;\n",
    "        }}\n",
    "        .chart-small {{\n",
    "            background: white;\n",
    "            border-radius: 12px;\n",
    "            box-shadow: 0px 4px 10px rgba(0,0,0,0.1);\n",
    "            padding: 10px;\n",
    "            height:550px;\n",
    "            height: auto;\n",
    "        }}    \n",
    "        #timeMessage {{\n",
    "            display: none;\n",
    "            text-align: center;\n",
    "            font-size: 18px;\n",
    "            color: #721c24;\n",
    "            background-color: #f8d7da;\n",
    "            border: 1px solid #f5c6cb;\n",
    "            border-radius: 12px;\n",
    "            padding: 20px;\n",
    "            margin: 20px auto;\n",
    "            max-width: 90%;\n",
    "            box-shadow: 0px 4px 12px rgba(0,0,0,0.1);\n",
    "            opacity: 0;\n",
    "            transition: opacity 1s ease-in-out;\n",
    "        }}\n",
    "        #timeMessage.show {{\n",
    "            display: block;\n",
    "            opacity: 1;\n",
    "        }}\n",
    "        /*  Responsive Design */\n",
    "        @media (max-width: 1024px) {{\n",
    "            .grid {{\n",
    "                grid-template-columns: 1fr;\n",
    "            }}\n",
    "            .header {{\n",
    "                flex-direction: column;\n",
    "                text-align: center;\n",
    "            }}\n",
    "            .header img {{\n",
    "                margin: 5px 0;\n",
    "            }}\n",
    "            .clock {{\n",
    "                position: relative;\n",
    "                right: auto;\n",
    "                margin: 10px 0;\n",
    "                text-align: center;\n",
    "            }}\n",
    "        }}\n",
    "    </style>\n",
    "</head>\n",
    "<body>\n",
    "    <div class=\"header\">\n",
    "        <img src=\"https://upload.wikimedia.org/wikipedia/commons/2/2f/Google_2015_logo.svg\" alt=\"Google Logo\">\n",
    "        <h1> App Analytics Dashboard</h1>\n",
    "        <img src=\"https://upload.wikimedia.org/wikipedia/commons/7/78/Google_Play_Store_badge_EN.svg\" alt=\"Play Store Logo\">\n",
    "        <div class=\"clock\" id=\"clock\"></div>\n",
    "    </div>\n",
    "\n",
    "    <div class=\"main\">\n",
    "        <div id=\"mainChartContainer\" class=\"chart-large\">\n",
    "            <div id=\"mainChartContent\">\n",
    "                {main_fig.to_html(include_plotlyjs=True, full_html=False)}\n",
    "            </div>\n",
    "            <div id=\"timeMessage\">\n",
    "                 This graph will be shown only between <b>3 PM to 5 PM IST</b>.\n",
    "            </div>\n",
    "        </div>\n",
    "    </div>\n",
    "\n",
    "    <div class=\"grid\">\n",
    "        <div class=\"chart-small\">{chart1.to_html(include_plotlyjs=False, full_html=False)}</div>\n",
    "        <div class=\"chart-small\">{chart2.to_html(include_plotlyjs=False, full_html=False)}</div>\n",
    "        <div class=\"chart-small\">{chart3.to_html(include_plotlyjs=False, full_html=False)}</div>\n",
    "        <div class=\"chart-small\">{chart4.to_html(include_plotlyjs=False, full_html=False)}</div>\n",
    "    </div>\n",
    "\n",
    "    <script>\n",
    "        function updateClock() {{\n",
    "            let now = new Date();\n",
    "            let utc = now.getTime() + (now.getTimezoneOffset() * 60000);\n",
    "            let ist = new Date(utc + (3600000*5.5));\n",
    "            document.getElementById(\"clock\").innerHTML = \" \" + ist.toLocaleTimeString();\n",
    "        }}\n",
    "        setInterval(updateClock, 1000);\n",
    "        updateClock();\n",
    "\n",
    "        function checkTime() {{\n",
    "            let now = new Date();\n",
    "            let utc = now.getTime() + (now.getTimezoneOffset() * 60000);\n",
    "            let ist = new Date(utc + (3600000*5.5));\n",
    "            let hour = ist.getHours();\n",
    "\n",
    "            if (hour < 15 || hour >= 17) {{\n",
    "                document.getElementById(\"mainChartContent\").style.display = \"none\";\n",
    "                document.getElementById(\"timeMessage\").classList.add(\"show\");\n",
    "            }} else {{\n",
    "                document.getElementById(\"mainChartContent\").style.display = \"block\";\n",
    "                document.getElementById(\"timeMessage\").classList.remove(\"show\");\n",
    "            }}\n",
    "        }}\n",
    "        window.onload = checkTime;\n",
    "        setInterval(checkTime, 60000);\n",
    "    </script>\n",
    "</body>\n",
    "</html>\n",
    "\"\"\"\n",
    "\n",
    "with open(\"interactive.html\", \"w\", encoding=\"utf-8\") as f:\n",
    "    f.write(html_content)\n",
    "\n",
    "print(\"interactive.html responsive website created successfully! Ready to host\")\n"
   ]
  },
  {
   "cell_type": "code",
   "execution_count": null,
   "id": "f3c1343d-6826-4426-bfb6-bd2f4ca22bbb",
   "metadata": {},
   "outputs": [],
   "source": []
  },
  {
   "cell_type": "code",
   "execution_count": null,
   "id": "e9ba9170-a99a-4387-9eba-6dbef59efc52",
   "metadata": {},
   "outputs": [],
   "source": []
  },
  {
   "cell_type": "code",
   "execution_count": null,
   "id": "facd56d7-43e9-4dd9-837b-2d7291c174d6",
   "metadata": {},
   "outputs": [],
   "source": []
  },
  {
   "cell_type": "code",
   "execution_count": null,
   "id": "1fc1b0b2-1762-48da-9a22-c562b5c471d5",
   "metadata": {},
   "outputs": [],
   "source": []
  }
 ],
 "metadata": {
  "kernelspec": {
   "display_name": "Python 3 (ipykernel)",
   "language": "python",
   "name": "python3"
  },
  "language_info": {
   "codemirror_mode": {
    "name": "ipython",
    "version": 3
   },
   "file_extension": ".py",
   "mimetype": "text/x-python",
   "name": "python",
   "nbconvert_exporter": "python",
   "pygments_lexer": "ipython3",
   "version": "3.13.3"
  }
 },
 "nbformat": 4,
 "nbformat_minor": 5
}
